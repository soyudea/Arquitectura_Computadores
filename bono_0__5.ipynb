{
  "nbformat": 4,
  "nbformat_minor": 0,
  "metadata": {
    "colab": {
      "provenance": [],
      "authorship_tag": "ABX9TyORPMICdRpGuIA6iLdbIYxp",
      "include_colab_link": true
    },
    "kernelspec": {
      "name": "python3",
      "display_name": "Python 3"
    },
    "language_info": {
      "name": "python"
    }
  },
  "cells": [
    {
      "cell_type": "markdown",
      "metadata": {
        "id": "view-in-github",
        "colab_type": "text"
      },
      "source": [
        "<a href=\"https://colab.research.google.com/github/soyudea/Arquitectura_Computadores/blob/master/bono_0__5.ipynb\" target=\"_parent\"><img src=\"https://colab.research.google.com/assets/colab-badge.svg\" alt=\"Open In Colab\"/></a>"
      ]
    },
    {
      "cell_type": "markdown",
      "source": [],
      "metadata": {
        "id": "xuDpXOZ1rGKT"
      }
    },
    {
      "cell_type": "code",
      "source": [
        "def calcular_direccion_fisica(VA, BASE, en_kilobytes_va):\n",
        "    if en_kilobytes_va:\n",
        "        VA *= 1024\n",
        "    return VA + BASE\n",
        "\n",
        "def main():\n",
        "    try:\n",
        "        # Entradas de usuario\n",
        "        opcion = int(input(\"Seleccione la opción:\\n1. Calcular dirección física (PA)\\n2. Calcular dirección virtual (VA)\\n\"))\n",
        "\n",
        "        if opcion == 1:\n",
        "            # Calcular PA\n",
        "            VA = int(input(\"Ingrese el valor de la memoria virtual (VA): \"))\n",
        "            en_kilobytes_va = input(\"¿Está VA en kilobytes? (si/no): \").lower() == \"si\"\n",
        "            if en_kilobytes_va:\n",
        "                VA *= 1024\n",
        "            BASE = int(input(\"Ingrese el valor de BASE: \"))\n",
        "            en_kilobytes_base = input(\"¿Está BASE en kilobytes? (si/no): \").lower() == \"si\"\n",
        "            if en_kilobytes_base:\n",
        "                BASE *= 1024\n",
        "            BOUNDS = int(input(\"Ingrese el valor de BOUNDS: \"))\n",
        "            en_kilobytes_bounds = input(\"¿Está BOUNDS en kilobytes? (si/no): \").lower() == \"si\"\n",
        "            if en_kilobytes_bounds:\n",
        "                BOUNDS *= 1024\n",
        "\n",
        "            # Validar la dirección\n",
        "            if 0 <= VA <= BOUNDS:\n",
        "                # Calcular la dirección física\n",
        "                PA = calcular_direccion_fisica(VA, BASE, en_kilobytes_va)\n",
        "                print(\"La dirección virtual es válida.\")\n",
        "                print(\"Dirección física (PA):\", PA, \"bytes\")\n",
        "            else:\n",
        "                print(\"La dirección virtual está fuera de los límites (BOUNDS).\")\n",
        "\n",
        "        elif opcion == 2:\n",
        "            # Calcular VA\n",
        "            PA = int(input(\"Ingrese el valor de la memoria física (PA): \"))\n",
        "            en_kilobytes_pa = input(\"¿Está PA en kilobytes? (si/no): \").lower() == \"si\"\n",
        "            if en_kilobytes_pa:\n",
        "                PA *= 1024\n",
        "            BASE = int(input(\"Ingrese el valor de BASE: \"))\n",
        "            en_kilobytes_base = input(\"¿Está BASE en kilobytes? (si/no): \").lower() == \"si\"\n",
        "            if en_kilobytes_base:\n",
        "                BASE *= 1024\n",
        "            BOUNDS = int(input(\"Ingrese el valor de BOUNDS: \"))\n",
        "            en_kilobytes_bounds = input(\"¿Está BOUNDS en kilobytes? (si/no): \").lower() == \"si\"\n",
        "            if en_kilobytes_bounds:\n",
        "                BOUNDS *= 1024\n",
        "\n",
        "            # Validar la dirección\n",
        "            #calculated_va = calcular_direccion_virtual(PA, BASE, en_kilobytes_pa)\n",
        "            VA = PA -BASE\n",
        "            if 0 <= VA <= BOUNDS:\n",
        "                # Calcular la dirección virtual\n",
        "                print(\"La dirección física es válida.\")\n",
        "                print(\"Dirección virtual (VA):\", VA, \"bytes\")\n",
        "            else:\n",
        "                print(\"La dirección física está fuera de los límites (BOUNDS).\")\n",
        "\n",
        "        else:\n",
        "            print(\"Opción no válida. Por favor, seleccione 1 o 2.\")\n",
        "\n",
        "    except ValueError:\n",
        "        print(\"Error: Ingrese números enteros válidos para VA, PA, BASE y BOUNDS.\")\n",
        "\n",
        "if __name__ == \"__main__\":\n",
        "    main()"
      ],
      "metadata": {
        "colab": {
          "base_uri": "https://localhost:8080/"
        },
        "id": "1L8mMc91rI7s",
        "outputId": "e33a83e0-d6d3-4f65-f65b-a2c0c900a411"
      },
      "execution_count": 19,
      "outputs": [
        {
          "output_type": "stream",
          "name": "stdout",
          "text": [
            "Seleccione la opción:\n",
            "1. Calcular dirección física (PA)\n",
            "2. Calcular dirección virtual (VA)\n",
            "1\n",
            "Ingrese el valor de la memoria virtual (VA): 0\n",
            "¿Está VA en kilobytes? (si/no): no\n",
            "Ingrese el valor de BASE: 16\n",
            "¿Está BASE en kilobytes? (si/no): si\n",
            "Ingrese el valor de BOUNDS: 4\n",
            "¿Está BOUNDS en kilobytes? (si/no): si\n",
            "La dirección virtual es válida.\n",
            "Dirección física (PA): 16384 bytes\n"
          ]
        }
      ]
    }
  ]
}